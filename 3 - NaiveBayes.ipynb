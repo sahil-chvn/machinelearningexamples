{
 "cells": [
  {
   "cell_type": "markdown",
   "metadata": {},
   "source": [
    "# Naive Bayes"
   ]
  },
  {
   "cell_type": "markdown",
   "metadata": {},
   "source": [
    "Naive Bayes classifiers are a collection of classification algorithms based on Bayes’ Theorem. It is not a single algorithm but a family of algorithms where all of them share a common principle, i.e. every pair of features being classified is independent of each other."
   ]
  },
  {
   "cell_type": "code",
   "execution_count": 8,
   "metadata": {},
   "outputs": [],
   "source": [
    "#provides a way of using operating system dependent function\n",
    "import os\n",
    "\n",
    "import io\n",
    "import numpy\n",
    "from pandas import DataFrame\n",
    "\n",
    "#convert a collection of text documents to a matrix of token counts\n",
    "from sklearn.feature_extraction.text import CountVectorizer\n",
    "\n",
    "#multinomial Naive Bayes classifier is used for classification with discrete features\n",
    "from sklearn.naive_bayes import MultinomialNB\n",
    "\n",
    "#create function to read files\n",
    "def readFiles(path):\n",
    "\n",
    "#Will iterate through every file given from the mentions directory\n",
    "    for root, dirnames, filenames in os.walk(path):\n",
    "        for filename in filenames:\n",
    "            path = os.path.join(root, filename)\n",
    "\n",
    "            #will train only the body\n",
    "            inBody = False\n",
    "            \n",
    "            #create empty list lines\n",
    "            lines = []\n",
    "            \n",
    "            #encoding type is latin1\n",
    "            f = io.open(path, 'r', encoding='latin1')\n",
    "            for line in f:\n",
    "                if inBody:\n",
    "                    lines.append(line)\n",
    "                elif line == '\\n':\n",
    "                    inBody = True\n",
    "            f.close()\n",
    "            message = '\\n'.join(lines)\n",
    "            \n",
    "            #yield is used like return but the function will return a generator\n",
    "            yield path, message\n",
    "\n",
    "\n",
    "def dataFrameFromDirectory(path, classification):\n",
    "    #create empty list rows\n",
    "    rows = []\n",
    "    \n",
    "    #create empty list index\n",
    "    index = []\n",
    "    for filename, message in readFiles(path):\n",
    "        #append list rows\n",
    "        rows.append({'message': message, 'class': classification})\n",
    "        #append list index\n",
    "        index.append(filename)\n",
    "    #return dataframe\n",
    "    return DataFrame(rows, index=index)\n",
    "#create a data frame object which contains empty list for message and empty list for class\n",
    "data = DataFrame({'message': [], 'class': []})\n",
    "\n",
    "#read content from files placed in ham and spam\n",
    "data = data.append(dataFrameFromDirectory('C:/ML - L00151073/ham and spam data set/spam', 'spam'))\n",
    "data = data.append(dataFrameFromDirectory('C:/ML - L0015107/ham and spam data set/ham', 'ham'))\n"
   ]
  },
  {
   "cell_type": "markdown",
   "metadata": {},
   "source": [
    "Let's have a look at that DataFrame:"
   ]
  },
  {
   "cell_type": "code",
   "execution_count": 9,
   "metadata": {},
   "outputs": [
    {
     "data": {
      "text/html": [
       "<div>\n",
       "<style scoped>\n",
       "    .dataframe tbody tr th:only-of-type {\n",
       "        vertical-align: middle;\n",
       "    }\n",
       "\n",
       "    .dataframe tbody tr th {\n",
       "        vertical-align: top;\n",
       "    }\n",
       "\n",
       "    .dataframe thead th {\n",
       "        text-align: right;\n",
       "    }\n",
       "</style>\n",
       "<table border=\"1\" class=\"dataframe\">\n",
       "  <thead>\n",
       "    <tr style=\"text-align: right;\">\n",
       "      <th></th>\n",
       "      <th>class</th>\n",
       "      <th>message</th>\n",
       "    </tr>\n",
       "  </thead>\n",
       "  <tbody>\n",
       "    <tr>\n",
       "      <th>C:/ML - L00151073/ham and spam data set/spam\\0000.7b1b73cf36cf9dbc3d64e3f2ee2b91f1</th>\n",
       "      <td>spam</td>\n",
       "      <td></td>\n",
       "    </tr>\n",
       "    <tr>\n",
       "      <th>C:/ML - L00151073/ham and spam data set/spam\\0001.bfc8d64d12b325ff385cca8d07b84288</th>\n",
       "      <td>spam</td>\n",
       "      <td>&lt;!DOCTYPE HTML PUBLIC \"-//W3C//DTD HTML 4.0 Tr...</td>\n",
       "    </tr>\n",
       "    <tr>\n",
       "      <th>C:/ML - L00151073/ham and spam data set/spam\\0002.24b47bb3ce90708ae29d0aec1da08610</th>\n",
       "      <td>spam</td>\n",
       "      <td>1) Fight The Risk of Cancer!\\n\\nhttp://www.adc...</td>\n",
       "    </tr>\n",
       "    <tr>\n",
       "      <th>C:/ML - L00151073/ham and spam data set/spam\\0003.4b3d943b8df71af248d12f8b2e7a224a</th>\n",
       "      <td>spam</td>\n",
       "      <td>1) Fight The Risk of Cancer!\\n\\nhttp://www.adc...</td>\n",
       "    </tr>\n",
       "    <tr>\n",
       "      <th>C:/ML - L00151073/ham and spam data set/spam\\0004.1874ab60c71f0b31b580f313a3f6e777</th>\n",
       "      <td>spam</td>\n",
       "      <td>##############################################...</td>\n",
       "    </tr>\n",
       "  </tbody>\n",
       "</table>\n",
       "</div>"
      ],
      "text/plain": [
       "                                                   class  \\\n",
       "C:/ML - L00151073/ham and spam data set/spam\\00...  spam   \n",
       "C:/ML - L00151073/ham and spam data set/spam\\00...  spam   \n",
       "C:/ML - L00151073/ham and spam data set/spam\\00...  spam   \n",
       "C:/ML - L00151073/ham and spam data set/spam\\00...  spam   \n",
       "C:/ML - L00151073/ham and spam data set/spam\\00...  spam   \n",
       "\n",
       "                                                                                              message  \n",
       "C:/ML - L00151073/ham and spam data set/spam\\00...                                                     \n",
       "C:/ML - L00151073/ham and spam data set/spam\\00...  <!DOCTYPE HTML PUBLIC \"-//W3C//DTD HTML 4.0 Tr...  \n",
       "C:/ML - L00151073/ham and spam data set/spam\\00...  1) Fight The Risk of Cancer!\\n\\nhttp://www.adc...  \n",
       "C:/ML - L00151073/ham and spam data set/spam\\00...  1) Fight The Risk of Cancer!\\n\\nhttp://www.adc...  \n",
       "C:/ML - L00151073/ham and spam data set/spam\\00...  ##############################################...  "
      ]
     },
     "execution_count": 9,
     "metadata": {},
     "output_type": "execute_result"
    }
   ],
   "source": [
    "#return first 5 default values\n",
    "data.head()"
   ]
  },
  {
   "cell_type": "markdown",
   "metadata": {},
   "source": [
    "We will use a CountVectorizer to split up each message into its list of words, and throw that into a MultinomialNB classifier. Call fit() and we've got a trained spam filter ready to go! It's just that easy."
   ]
  },
  {
   "cell_type": "code",
   "execution_count": 10,
   "metadata": {},
   "outputs": [
    {
     "data": {
      "text/plain": [
       "MultinomialNB(alpha=1.0, class_prior=None, fit_prior=True)"
      ]
     },
     "execution_count": 10,
     "metadata": {},
     "output_type": "execute_result"
    }
   ],
   "source": [
    "vectorizer = CountVectorizer()\n",
    "\n",
    "#check list of all words in email and number of times that words occur\n",
    "#take the message column from dataframe tokenize it or convert all the words\n",
    "counts = vectorizer.fit_transform(data['message'].values)\n",
    "\n",
    "#two inputs actual data on which training is going on and the target\n",
    "classifier = MultinomialNB()\n",
    "targets = data['class'].values\n",
    "classifier.fit(counts, targets)"
   ]
  },
  {
   "cell_type": "markdown",
   "metadata": {},
   "source": [
    "Let's try it out:"
   ]
  },
  {
   "cell_type": "code",
   "execution_count": 12,
   "metadata": {},
   "outputs": [
    {
     "data": {
      "text/plain": [
       "array(['spam', 'spam'], dtype='<U4')"
      ]
     },
     "execution_count": 12,
     "metadata": {},
     "output_type": "execute_result"
    }
   ],
   "source": [
    "#provide input to identify ham and spam\n",
    "examples = ['Man Threatens Explosion In Moscow', 'buying life insurance simple and affordable']\n",
    "example_counts = vectorizer.transform(examples)\n",
    "predictions = classifier.predict(example_counts)\n",
    "predictions"
   ]
  },
  {
   "cell_type": "markdown",
   "metadata": {},
   "source": [
    "The system identifies the text as spam!"
   ]
  }
 ],
 "metadata": {
  "kernelspec": {
   "display_name": "Python 3",
   "language": "python",
   "name": "python3"
  },
  "language_info": {
   "codemirror_mode": {
    "name": "ipython",
    "version": 3
   },
   "file_extension": ".py",
   "mimetype": "text/x-python",
   "name": "python",
   "nbconvert_exporter": "python",
   "pygments_lexer": "ipython3",
   "version": "3.7.3"
  }
 },
 "nbformat": 4,
 "nbformat_minor": 1
}
